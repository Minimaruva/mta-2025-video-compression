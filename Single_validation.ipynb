{
 "cells": [
  {
   "cell_type": "markdown",
   "id": "f2dedc46",
   "metadata": {},
   "source": [
    "# Validation for single frame/video\n",
    "This should be a file where i try to make a validation code to work on single frame/video to test the filters"
   ]
  },
  {
   "cell_type": "code",
   "execution_count": 1,
   "id": "c11bbcb3",
   "metadata": {},
   "outputs": [],
   "source": [
    "from src.common.submission import folder_submission\n",
    "from src.common.validation import Validation\n",
    "import numpy as np\n",
    "import os\n",
    "import multiprocessing"
   ]
  },
  {
   "cell_type": "code",
   "execution_count": 2,
   "id": "f2f1f729",
   "metadata": {},
   "outputs": [
    {
     "name": "stdout",
     "output_type": "stream",
     "text": [
      "Starting submission testing\n",
      "It can take 15mins to run on full dataset on a 32 cores machine\n",
      "Your score is 0.0\n",
      "The lower the better, even better if it's lower than 0\n"
     ]
    }
   ],
   "source": [
    "dataset=Validation()\n",
    "dataset.prepare_dataset(filepath_sequences=\"test_validations\")\n",
    "\n",
    "pool = multiprocessing.Pool(processes=multiprocessing.cpu_count())\n",
    "manager = multiprocessing.Manager()\n",
    "return_values = manager.dict()\n",
    "\n",
    "print(\"Starting submission testing\")\n",
    "print(\"It can take 15mins to run on full dataset on a 32 cores machine\")\n",
    "for folder in dataset.folders:\n",
    "    pool.apply_async(folder_submission, args=(os.path.basename(folder), return_values))\n",
    "pool.close()\n",
    "pool.join()\n",
    "\n",
    "\n",
    "bdrates = return_values.values()\n",
    "bdrates = np.asarray(bdrates)\n",
    "score = np.nanmean(bdrates)\n",
    "print(f\"Your score is {score}\")\n",
    "print(\"The lower the better, even better if it's lower than 0\")"
   ]
  },
  {
   "cell_type": "code",
   "execution_count": 3,
   "id": "673b73f7",
   "metadata": {},
   "outputs": [
    {
     "name": "stdout",
     "output_type": "stream",
     "text": [
      "[nan]\n"
     ]
    }
   ],
   "source": [
    "print(bdrates)"
   ]
  },
  {
   "cell_type": "code",
   "execution_count": null,
   "id": "8a7b2e38",
   "metadata": {},
   "outputs": [],
   "source": [
    "## This doesn't work cuz folder sumbission only works in multiprocessing\n",
    "\n",
    "print(\"Starting submission testing\")\n",
    "for folder in dataset.folders:\n",
    "    return_dict = {} \n",
    "    result = folder_submission(os.path.basename(folder), return_dict)\n",
    "    print(f\"Result for {folder}: {result}\")\n",
    "\n",
    "    bdrates = np.asarray(list(result.values()))\n",
    "    score = np.nanmean(bdrates)\n",
    "    print(f\"Your score is {score}\")\n",
    "    print(\"The lower the better, even better if it's lower than 0\")\n"
   ]
  }
 ],
 "metadata": {
  "kernelspec": {
   "display_name": ".venv",
   "language": "python",
   "name": "python3"
  },
  "language_info": {
   "codemirror_mode": {
    "name": "ipython",
    "version": 3
   },
   "file_extension": ".py",
   "mimetype": "text/x-python",
   "name": "python",
   "nbconvert_exporter": "python",
   "pygments_lexer": "ipython3",
   "version": "3.11.9"
  }
 },
 "nbformat": 4,
 "nbformat_minor": 5
}
