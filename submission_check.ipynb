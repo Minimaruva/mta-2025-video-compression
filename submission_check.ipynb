{
 "cells": [
  {
   "cell_type": "markdown",
   "metadata": {},
   "source": [
    "# ATL TECH ARENA 2025\n",
    "TODO insert description of task"
   ]
  },
  {
   "cell_type": "code",
   "execution_count": null,
   "metadata": {},
   "outputs": [
    {
     "ename": "",
     "evalue": "",
     "output_type": "error",
     "traceback": [
      "\u001b[1;31mThe kernel failed to start due to the missing module 'psutil'. Consider installing this module.\n",
      "\u001b[1;31mClick <a href='https://aka.ms/kernelFailuresMissingModule'>here</a> for more info."
     ]
    }
   ],
   "source": [
    "from src.common.submission import folder_submission\n",
    "from src.common.validation import Validation\n",
    "import numpy as np\n",
    "import os\n",
    "import multiprocessing"
   ]
  },
  {
   "cell_type": "markdown",
   "metadata": {},
   "source": [
    "# Submission"
   ]
  },
  {
   "cell_type": "code",
   "execution_count": null,
   "metadata": {},
   "outputs": [],
   "source": [
    "def submission():\n",
    "    dataset = Validation()\n",
    "    dataset.prepare_dataset()\n",
    "\n",
    "    pool = multiprocessing.Pool(processes=multiprocessing.cpu_count())\n",
    "    manager = multiprocessing.Manager()\n",
    "    return_values = manager.dict()\n",
    "    \n",
    "    print(\"Starting submission testing\")\n",
    "    print(\"It can take 15mins to run on full dataset on a 32 cores machine\")\n",
    "    for folder in dataset.folders:\n",
    "        pool.apply_async(folder_submission, args=(os.path.basename(folder), return_values))\n",
    "    pool.close()\n",
    "    pool.join()\n",
    "\n",
    "    \n",
    "    bdrates = return_values.values()\n",
    "    bdrates = np.asarray(bdrates)\n",
    "    score = np.nanmean(bdrates)\n",
    "    print(f\"Your score is {score}\")\n",
    "    print(\"The lower the better, even better if it's lower than 0\")"
   ]
  },
  {
   "cell_type": "code",
   "execution_count": 3,
   "metadata": {},
   "outputs": [
    {
     "name": "stdout",
     "output_type": "stream",
     "text": [
      "Starting submission testing\n",
      "It can take 1hour to run on full dataset\n"
     ]
    },
    {
     "name": "stderr",
     "output_type": "stream",
     "text": [
      "/home/jpardo/miniconda3/lib/python3.12/site-packages/bjontegaard/bjontegaard_delta.py:54: UserWarning: Insufficient curve overlap: '73.59'. Minimum overlap: '75.00'. You can silence this warning by setting `min_overlap=0`\n",
      "  warnings.warn(\n",
      "/home/jpardo/miniconda3/lib/python3.12/site-packages/bjontegaard/bjontegaard_delta.py:54: UserWarning: Insufficient curve overlap: '35.82'. Minimum overlap: '75.00'. You can silence this warning by setting `min_overlap=0`\n",
      "  warnings.warn(\n",
      "/home/jpardo/miniconda3/lib/python3.12/site-packages/bjontegaard/bjontegaard_delta.py:54: UserWarning: Insufficient curve overlap: '61.67'. Minimum overlap: '75.00'. You can silence this warning by setting `min_overlap=0`\n",
      "  warnings.warn(\n",
      "/home/jpardo/miniconda3/lib/python3.12/site-packages/bjontegaard/bjontegaard_delta.py:54: UserWarning: Insufficient curve overlap: '20.27'. Minimum overlap: '75.00'. You can silence this warning by setting `min_overlap=0`\n",
      "  warnings.warn(\n",
      "/home/jpardo/miniconda3/lib/python3.12/site-packages/bjontegaard/bjontegaard_delta.py:54: UserWarning: Insufficient curve overlap: '73.21'. Minimum overlap: '75.00'. You can silence this warning by setting `min_overlap=0`\n",
      "  warnings.warn(\n"
     ]
    },
    {
     "name": "stdout",
     "output_type": "stream",
     "text": [
      "[10.80456578 17.0415712   6.49844085 76.78642229 19.48270499 13.5831972\n",
      "  9.69812657  6.9686212  10.10233004  9.50262618  5.45938756 12.69560375\n",
      " 22.0842205   9.30479522  8.31855384 10.72449697 20.25905779 22.31240525\n",
      " 51.67958248  9.28860549  6.30337683  3.43705281 34.71430066 14.36422953\n",
      "  9.46306771  6.99176064  7.57082696 15.65679947  8.61605274  5.24458369\n",
      " 78.45390331 13.31306469 11.55913316  5.93511273 34.68692065 17.42611755\n",
      " 15.38833123  9.84304766 21.27305067  9.46243277  5.19231884 19.05879614\n",
      " 42.9392237  15.1985449  38.90469834 15.64594994  5.81575008  8.48549386\n",
      " 15.9534725  26.3529912   8.73899562]\n",
      "Your score is 17.3447983472437\n",
      "The lower the better, even better if it's lower than 0\n"
     ]
    }
   ],
   "source": [
    "submission()"
   ]
  },
  {
   "cell_type": "code",
   "execution_count": null,
   "metadata": {},
   "outputs": [],
   "source": []
  },
  {
   "cell_type": "code",
   "execution_count": null,
   "metadata": {},
   "outputs": [],
   "source": []
  },
  {
   "cell_type": "code",
   "execution_count": null,
   "metadata": {},
   "outputs": [],
   "source": []
  }
 ],
 "metadata": {
  "kernelspec": {
   "display_name": "Python 3",
   "language": "python",
   "name": "python3"
  },
  "language_info": {
   "codemirror_mode": {
    "name": "ipython",
    "version": 3
   },
   "file_extension": ".py",
   "mimetype": "text/x-python",
   "name": "python",
   "nbconvert_exporter": "python",
   "pygments_lexer": "ipython3",
   "version": "3.11.9"
  }
 },
 "nbformat": 4,
 "nbformat_minor": 2
}
