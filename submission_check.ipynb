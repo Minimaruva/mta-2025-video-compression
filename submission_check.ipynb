{
 "cells": [
  {
   "cell_type": "markdown",
   "metadata": {},
   "source": [
    "# ATL TECH ARENA 2025\n",
    "TODO insert description of task"
   ]
  },
  {
   "cell_type": "code",
   "execution_count": 1,
   "metadata": {},
   "outputs": [],
   "source": [
    "from src.common.submission import folder_submission\n",
    "from src.common.validation import Validation\n",
    "import numpy as np\n",
    "import os\n",
    "import multiprocessing"
   ]
  },
  {
   "cell_type": "markdown",
   "metadata": {},
   "source": [
    "# Submission"
   ]
  },
  {
   "cell_type": "code",
   "execution_count": 2,
   "metadata": {},
   "outputs": [],
   "source": [
    "def submission():\n",
    "    dataset = Validation()\n",
    "    dataset.prepare_dataset()\n",
    "\n",
    "    pool = multiprocessing.Pool(processes=multiprocessing.cpu_count())\n",
    "    manager = multiprocessing.Manager()\n",
    "    return_values = manager.dict()\n",
    "    \n",
    "    print(\"Starting submission testing\")\n",
    "    print(\"It can take 15mins to run on full dataset on a 32 cores machine\")\n",
    "    for folder in dataset.folders:\n",
    "        pool.apply_async(folder_submission, args=(os.path.basename(folder), return_values))\n",
    "    pool.close()\n",
    "    pool.join()\n",
    "\n",
    "    \n",
    "    bdrates = return_values.values()\n",
    "    bdrates = np.asarray(bdrates)\n",
    "    score = np.nanmean(bdrates)\n",
    "    print(f\"Your score is {score}\")\n",
    "    print(\"The lower the better, even better if it's lower than 0\")"
   ]
  },
  {
   "cell_type": "code",
   "execution_count": null,
   "metadata": {},
   "outputs": [
    {
     "name": "stdout",
     "output_type": "stream",
     "text": [
      "Starting submission testing\n",
      "It can take 15mins to run on full dataset on a 32 cores machine\n"
     ]
    }
   ],
   "source": [
    "submission()"
   ]
  },
  {
   "cell_type": "code",
   "execution_count": null,
   "metadata": {},
   "outputs": [],
   "source": []
  },
  {
   "cell_type": "code",
   "execution_count": null,
   "metadata": {},
   "outputs": [],
   "source": []
  },
  {
   "cell_type": "code",
   "execution_count": null,
   "metadata": {},
   "outputs": [],
   "source": []
  }
 ],
 "metadata": {
  "kernelspec": {
   "display_name": ".venv",
   "language": "python",
   "name": "python3"
  },
  "language_info": {
   "codemirror_mode": {
    "name": "ipython",
    "version": 3
   },
   "file_extension": ".py",
   "mimetype": "text/x-python",
   "name": "python",
   "nbconvert_exporter": "python",
   "pygments_lexer": "ipython3",
   "version": "3.11.9"
  }
 },
 "nbformat": 4,
 "nbformat_minor": 2
}
