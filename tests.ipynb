{
 "cells": [
  {
   "cell_type": "markdown",
   "id": "ad64fb63",
   "metadata": {},
   "source": [
    "# FFmpeg Encoding: Select and Encode a Video\n",
    "Use the widget below to select a .y4m file and encode it to .mp4 using ffmpeg."
   ]
  },
  {
   "cell_type": "code",
   "execution_count": null,
   "id": "9d190e7b",
   "metadata": {},
   "outputs": [
    {
     "data": {
      "application/vnd.jupyter.widget-view+json": {
       "model_id": "f7de02236cf844bda3e4f29fda094d48",
       "version_major": 2,
       "version_minor": 0
      },
      "text/plain": [
       "VBox(children=(Dropdown(description='Select file:', layout=Layout(width='60%'), options=('AOV_1920x1080_60_yuv…"
      ]
     },
     "metadata": {},
     "output_type": "display_data"
    }
   ],
   "source": [
    "import ipywidgets as widgets\n",
    "from IPython.display import display, clear_output\n",
    "import os\n",
    "\n",
    "search_dir = 'A:/Programming/Python_projects/2025Munich/source/atl_tech_arena_2025-master/originals'\n",
    "file_list = [f for f in os.listdir(search_dir) if f.endswith('.y4m')]\n",
    "\n",
    "file_dropdown = widgets.Dropdown(\n",
    "    options=file_list,\n",
    "    description='Select file:',\n",
    "    style={'description_width': 'initial'},\n",
    "    layout=widgets.Layout(width='60%')\n",
    ")\n",
    "\n",
    "qp_slider = widgets.IntSlider(\n",
    "    value=28,\n",
    "    min=0,\n",
    "    max=51,\n",
    "    step=1,\n",
    "    description='QP:',\n",
    "    style={'description_width': 'initial'},\n",
    "    layout=widgets.Layout(width='40%')\n",
    ")\n",
    "\n",
    "run_button = widgets.Button(description='Run FFmpeg', button_style='success')\n",
    "output = widgets.Output()\n",
    "\n",
    "def run_ffmpeg_command(b):\n",
    "    with output:\n",
    "        clear_output()\n",
    "        selected_file = file_dropdown.value\n",
    "        qp = qp_slider.value\n",
    "        input_path = os.path.join(search_dir, selected_file)\n",
    "        output_path = os.path.splitext(input_path)[0] + '-encoded.mp4'\n",
    "        cmd = f'ffmpeg -y -i \"{input_path}\" -c:v libx265 -x265-params \"qp={qp}:p=veryfast\" -r 60 \"{output_path}\"'\n",
    "        print(f'Running: {cmd}')\n",
    "        result = os.system(cmd)\n",
    "        if result == 0:\n",
    "            print(f'Encoding complete! Output saved to: {output_path}')\n",
    "        else:\n",
    "            print('Error running ffmpeg command.')\n",
    "        global last_original_file, last_encoded_file\n",
    "    last_original_file = input_path\n",
    "    last_encoded_file = output_path\n",
    "        \n",
    "\n",
    "run_button.on_click(run_ffmpeg_command)\n",
    "\n",
    "display(widgets.VBox([file_dropdown, qp_slider, run_button, output]))"
   ]
  },
  {
   "cell_type": "markdown",
   "id": "8fcf1725",
   "metadata": {},
   "source": [
    "# Play Original and Encoded Videos with FFmpeg\n",
    "Use the cells below to play the original .y4m and encoded .mp4 videos using ffmpeg."
   ]
  },
  {
   "cell_type": "code",
   "execution_count": 22,
   "id": "b8e221ac",
   "metadata": {},
   "outputs": [
    {
     "data": {
      "text/plain": [
       "0"
      ]
     },
     "execution_count": 22,
     "metadata": {},
     "output_type": "execute_result"
    }
   ],
   "source": [
    "import os\n",
    "\n",
    "# Extract frame 10 from original and encoded videos\n",
    "os.system('ffmpeg -y -i \"{}\" -vf \"select=eq(n\\\\,10)\" -vframes 1 original_frame.png'.format(last_original_file))\n",
    "os.system('ffmpeg -y -i \"{}\" -vf \"select=eq(n\\\\,10)\" -vframes 1 encoded_frame.png'.format(last_encoded_file))"
   ]
  },
  {
   "cell_type": "code",
   "execution_count": 2,
   "id": "81b0930e",
   "metadata": {},
   "outputs": [
    {
     "data": {
      "text/html": [
       "\n",
       "<div style=\"display: flex; flex-direction: row; gap: 40px; align-items: flex-start;\">\n",
       "  <div style=\"text-align: center;\">\n",
       "    <div>Original Frame</div>\n",
       "    <img src=\"original_frame.png\" style=\"max-width:550px; max-height:550px; border:1px solid #ccc;\">\n",
       "  </div>\n",
       "  <div style=\"text-align: center;\">\n",
       "    <div>Encoded Frame</div>\n",
       "    <img src=\"encoded_frame.png\" style=\"max-width:550px; max-height:550px; border:1px solid #ccc;\">\n",
       "  </div>\n",
       "</div>\n"
      ],
      "text/plain": [
       "<IPython.core.display.HTML object>"
      ]
     },
     "metadata": {},
     "output_type": "display_data"
    }
   ],
   "source": [
    "from IPython.display import display, HTML\n",
    "import os\n",
    "\n",
    "# Extract frame 10 from original and encoded videos\n",
    "os.system('ffmpeg -y -i \"{}\" -vf \"select=eq(n\\\\,10)\" -vframes 1 original_frame.png'.format(last_original_file))\n",
    "os.system('ffmpeg -y -i \"{}\" -vf \"select=eq(n\\\\,10)\" -vframes 1 encoded_frame.png'.format(last_encoded_file))\n",
    "\n",
    "html = '''\n",
    "<div style=\"display: flex; flex-direction: row; gap: 40px; align-items: flex-start;\">\n",
    "  <div style=\"text-align: center;\">\n",
    "    <div>Original Frame</div>\n",
    "    <img src=\"original_frame.png\" style=\"max-width:550px; max-height:550px; border:1px solid #ccc;\">\n",
    "  </div>\n",
    "  <div style=\"text-align: center;\">\n",
    "    <div>Encoded Frame</div>\n",
    "    <img src=\"encoded_frame.png\" style=\"max-width:550px; max-height:550px; border:1px solid #ccc;\">\n",
    "  </div>\n",
    "</div>\n",
    "'''\n",
    "display(HTML(html))"
   ]
  }
 ],
 "metadata": {
  "kernelspec": {
   "display_name": ".venv",
   "language": "python",
   "name": "python3"
  },
  "language_info": {
   "codemirror_mode": {
    "name": "ipython",
    "version": 3
   },
   "file_extension": ".py",
   "mimetype": "text/x-python",
   "name": "python",
   "nbconvert_exporter": "python",
   "pygments_lexer": "ipython3",
   "version": "3.11.9"
  }
 },
 "nbformat": 4,
 "nbformat_minor": 5
}
